{
 "cells": [
  {
   "cell_type": "code",
   "execution_count": 8,
   "metadata": {},
   "outputs": [],
   "source": [
    "from icecream import ic\n",
    "import scipy as sp\n",
    "import numpy as np\n",
    "import cv2"
   ]
  },
  {
   "cell_type": "code",
   "execution_count": 9,
   "metadata": {},
   "outputs": [],
   "source": [
    "import os\n",
    "\n",
    "BLOCK_SIZE = 8\n",
    "\n",
    "\n",
    "def gather_files(dirs: list[str]) -> list[str]:\n",
    "    \"\"\"Collect all file paths, filter invalid files and return a list of valid file paths.\"\"\"\n",
    "    return [\n",
    "        os.path.join(subdir, file)\n",
    "        for dir in dirs\n",
    "        for subdir, _, files in os.walk(dir)\n",
    "        for file in files\n",
    "        if os.path.isfile(os.path.join(subdir, file))\n",
    "    ]\n",
    "\n",
    "\n",
    "def zigzag(matrix: np.ndarray) -> np.ndarray:\n",
    "    \"\"\"\n",
    "    Zigzag traversal of a 2D matrix to convert a 2D array to a 1D array.\n",
    "    \"\"\"\n",
    "    rows, cols = matrix.shape\n",
    "    result = []\n",
    "    for diag in range(rows + cols - 1):\n",
    "        if diag % 2 == 0:\n",
    "            # Even diagonal: traverse from bottom-left to top-right\n",
    "            start_row = min(diag, rows - 1)\n",
    "            start_col = diag - start_row\n",
    "            while start_row >= 0 and start_col < cols:\n",
    "                result.append(matrix[start_row, start_col])\n",
    "                start_row -= 1\n",
    "                start_col += 1\n",
    "        else:\n",
    "            # Odd diagonal: traverse from top-right to bottom-left\n",
    "            start_col = min(diag, cols - 1)\n",
    "            start_row = diag - start_col\n",
    "            while start_col >= 0 and start_row < rows:\n",
    "                result.append(matrix[start_row, start_col])\n",
    "                start_row += 1\n",
    "                start_col -= 1\n",
    "    return np.array(result)\n",
    "\n",
    "\n",
    "def first_digit(x: float) -> int:\n",
    "    x = abs(x)  # Ensure the number is positive\n",
    "    while x >= 10:\n",
    "        x //= 10  # Divide by 10 until it's less than 10\n",
    "    while x < 1 and x > 0:\n",
    "        x *= 10  # Multiply by 10 until it's at least 1\n",
    "    return int(x)  # Return the integer part"
   ]
  },
  {
   "cell_type": "code",
   "execution_count": 10,
   "metadata": {},
   "outputs": [],
   "source": [
    "def pipeline(filename: str, block_size: int = 8) -> np.ndarray:\n",
    "    # Read Luminance of image\n",
    "    try:\n",
    "        img = cv2.imread(filename, cv2.IMREAD_GRAYSCALE)\n",
    "    except Exception as e:\n",
    "        print(f\"Error reading {filename}: {e}\")\n",
    "\n",
    "    height, width = img.shape\n",
    "\n",
    "    # Shift the matrix values from [0, 255] to [-128, 127]\n",
    "    img = np.array(img, dtype=np.int16) - 128\n",
    "\n",
    "    # crop the image to the nearest multiple of BLOCK_SIZE\n",
    "    height = height - height % block_size\n",
    "    width = width - width % block_size\n",
    "\n",
    "    img = img[:height, :width]\n",
    "\n",
    "    # chop up the matrix into blocks as defined by BLOCK_SIZE\n",
    "    blocks = img.reshape(\n",
    "        height // block_size, block_size, width // block_size, block_size\n",
    "    ).swapaxes(1, 2)\n",
    "\n",
    "    # Perform 2D DCT to each block and flatten the blocks from 3D to 1D\n",
    "    dct_blocks = np.array(\n",
    "        [\n",
    "            [\n",
    "                zigzag(sp.fft.dctn(blocks[i, j], norm=\"ortho\"))\n",
    "                for j in range(blocks.shape[1])\n",
    "            ]\n",
    "            for i in range(blocks.shape[0])\n",
    "        ],\n",
    "    ).flatten()\n",
    "\n",
    "    # Extract the first digits of the DCT coefficients\n",
    "    first_digits = np.array([first_digit(x) for x in dct_blocks if x != 0])\n",
    "\n",
    "    # Calculate the first digit occurences for each digit\n",
    "    occurrences = np.array(\n",
    "        [np.sum(first_digits == i) for i in range(10)], dtype=np.uint32\n",
    "    )\n",
    "\n",
    "    # Remove the first column (0) from the occurrences\n",
    "    occurrences = occurrences[1:]\n",
    "\n",
    "    # Calculate the probabilities of each digit\n",
    "    total_sum = np.sum(occurrences)\n",
    "    return occurrences / total_sum"
   ]
  },
  {
   "cell_type": "code",
   "execution_count": null,
   "metadata": {},
   "outputs": [
    {
     "data": {
      "text/plain": [
       "1338"
      ]
     },
     "execution_count": 11,
     "metadata": {},
     "output_type": "execute_result"
    }
   ],
   "source": [
    "dir = gather_files([\"insert your directory here\"])\n",
    "\n",
    "len(dir)"
   ]
  },
  {
   "cell_type": "code",
   "execution_count": 12,
   "metadata": {},
   "outputs": [
    {
     "name": "stderr",
     "output_type": "stream",
     "text": [
      "Processing files: 100%|██████████| 1338/1338 [01:07<00:00, 19.95it/s]"
     ]
    },
    {
     "name": "stdout",
     "output_type": "stream",
     "text": [
      "Mean Probabilities:\n",
      "[0.27263284 0.19940402 0.15842305 0.10858223 0.07154496 0.05681801\n",
      " 0.0459333  0.04795702 0.03870457]\n"
     ]
    },
    {
     "name": "stderr",
     "output_type": "stream",
     "text": [
      "\n"
     ]
    }
   ],
   "source": [
    "# Use multiprocessing to speed up the process\n",
    "from multiprocessing import Pool\n",
    "from tqdm import tqdm\n",
    "\n",
    "\n",
    "def process_file(filename):\n",
    "    try:\n",
    "        return pipeline(filename)\n",
    "    except Exception as e:\n",
    "        print(f\"Error processing {filename}: {e}\")\n",
    "        return None\n",
    "\n",
    "\n",
    "with Pool() as pool:\n",
    "    results = list(\n",
    "        tqdm(\n",
    "            pool.imap(process_file, dir),\n",
    "            total=len(dir),\n",
    "            desc=\"Processing files\",\n",
    "        )\n",
    "    )\n",
    "\n",
    "# Filter out None results\n",
    "results = [result for result in results if result is not None]\n",
    "\n",
    "# Convert the list of arrays into a 2D array\n",
    "results = np.array(results)\n",
    "\n",
    "# Calculate the mean probabilities across all files\n",
    "mean_probabilities = np.mean(results, axis=0)\n",
    "\n",
    "# Print the mean probabilities\n",
    "print(\"Mean Probabilities:\")\n",
    "print(mean_probabilities)"
   ]
  },
  {
   "cell_type": "code",
   "execution_count": 13,
   "metadata": {},
   "outputs": [
    {
     "data": {
      "image/png": "[encoded data removed]",
      "text/plain": [
       "<Figure size 1000x600 with 1 Axes>"
      ]
     },
     "metadata": {},
     "output_type": "display_data"
    }
   ],
   "source": [
    "# Plot the probabilities side by side with Benford's Law\n",
    "import matplotlib.pyplot as plt\n",
    "import numpy as np\n",
    "\n",
    "# Benford's Law distribution\n",
    "DIGITS = np.arange(1, 10)\n",
    "BENFORD = np.log10(1 + 1 / DIGITS)\n",
    "\n",
    "# Define bar width and positions\n",
    "bar_width = 0.3\n",
    "\n",
    "plt.figure(figsize=(10, 6))\n",
    "\n",
    "# Plot the first distribution\n",
    "plt.bar(\n",
    "    DIGITS - bar_width / 2,\n",
    "    mean_probabilities,\n",
    "    width=bar_width,\n",
    "    color=\"#a02437\",\n",
    "    label=\"DCT Coefficients\",\n",
    ")\n",
    "\n",
    "# Plot Benford's Law distribution\n",
    "plt.bar(\n",
    "    DIGITS + bar_width / 2,\n",
    "    BENFORD,\n",
    "    width=bar_width,\n",
    "    color=\"blue\",\n",
    "    alpha=0.7,\n",
    "    label=\"Benford's Law\",\n",
    ")\n",
    "\n",
    "# Plot logarithmic Benford distribution\n",
    "\n",
    "# Q factor = 70\n",
    "# N = 5.35736274\n",
    "# q = 1.91496246\n",
    "# s = 6.94208667\n",
    "\n",
    "# Q factor = 75\n",
    "# N = 5.30554254\n",
    "# q = 1.910744\n",
    "# s = 6.85574919\n",
    "\n",
    "# Q factor = 80\n",
    "# N = 5.48227842\n",
    "# q = 1.92193214\n",
    "# s = 7.20938869\n",
    "\n",
    "# Q factor = 90\n",
    "# N = 3.85666179\n",
    "# q = 1.77454821\n",
    "# s = 4.16778882\n",
    "\n",
    "# Q factor = 95\n",
    "# N = 1.80904931\n",
    "# q = 1.28458466\n",
    "# s = 1.29845904\n",
    "\n",
    "# Q factor = 98\n",
    "N = 4.97227351\n",
    "q = 1.85334686\n",
    "s = 6.45064833\n",
    "\n",
    "# Q factor = 99\n",
    "# N = 1.55282627\n",
    "# q = 1.29983359\n",
    "# s = 0.62188549\n",
    "\n",
    "LOG_BENFORD = N * np.log10(1 + 1 / (s + np.pow(DIGITS, q)))\n",
    "\n",
    "plt.bar(\n",
    "    DIGITS + 1.5 * bar_width,\n",
    "    LOG_BENFORD,\n",
    "    width=bar_width,\n",
    "    color=\"green\",\n",
    "    alpha=0.7,\n",
    "    label=\"Logarithmic Benford\",\n",
    ")\n",
    "\n",
    "# Add labels, title, and legend\n",
    "plt.xticks(DIGITS)\n",
    "plt.xlabel(\"First Digit\")\n",
    "plt.ylabel(\"Probability (%)\")\n",
    "plt.title(\"Comparison of First Digit Distribution\")\n",
    "plt.legend()\n",
    "plt.grid(axis=\"y\")\n",
    "plt.savefig(\"qf75.pdf\", format=\"pdf\")\n",
    "\n",
    "plt.show()\n"
   ]
  },
  {
   "cell_type": "code",
   "execution_count": 14,
   "metadata": {},
   "outputs": [
    {
     "name": "stderr",
     "output_type": "stream",
     "text": [
      "ic| popt: array([4.97227351, 1.85334686, 6.45064833])\n",
      "    pcov: array([[1.77713323, 0.21079661, 2.96410288],\n",
      "                 [0.21079661, 0.02630272, 0.34932537],\n",
      "                 [2.96410288, 0.34932537, 4.98389661]])\n"
     ]
    },
    {
     "data": {
      "text/plain": [
       "(array([4.97227351, 1.85334686, 6.45064833]),\n",
       " array([[1.77713323, 0.21079661, 2.96410288],\n",
       "        [0.21079661, 0.02630272, 0.34932537],\n",
       "        [2.96410288, 0.34932537, 4.98389661]]))"
      ]
     },
     "execution_count": 14,
     "metadata": {},
     "output_type": "execute_result"
    }
   ],
   "source": [
    "# Attempt to curve fit the data to a polynomial\n",
    "from scipy.optimize import curve_fit\n",
    "\n",
    "\n",
    "def log_benford_func(x, N, q, s):\n",
    "    return N * np.log10(1 + 1 / (s + np.pow(x, q)))\n",
    "\n",
    "\n",
    "x = np.arange(1, 10)\n",
    "y = mean_probabilities\n",
    "\n",
    "# Fit the data to the polynomial\n",
    "popt, pcov = curve_fit(log_benford_func, x, y, p0=[1, 1, 0])\n",
    "ic(popt, pcov)"
   ]
  }
 ],
 "metadata": {
  "kernelspec": {
   "display_name": ".venv",
   "language": "python",
   "name": "python3"
  },
  "language_info": {
   "codemirror_mode": {
    "name": "ipython",
    "version": 3
   },
   "file_extension": ".py",
   "mimetype": "text/x-python",
   "name": "python",
   "nbconvert_exporter": "python",
   "pygments_lexer": "ipython3",
   "version": "3.13.1"
  }
 },
 "nbformat": 4,
 "nbformat_minor": 2
}
